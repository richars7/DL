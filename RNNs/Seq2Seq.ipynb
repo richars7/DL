{
  "nbformat": 4,
  "nbformat_minor": 0,
  "metadata": {
    "colab": {
      "name": "Seq2Seq.ipynb",
      "version": "0.3.2",
      "provenance": [],
      "collapsed_sections": []
    },
    "kernelspec": {
      "name": "python3",
      "display_name": "Python 3"
    }
  },
  "cells": [
    {
      "metadata": {
        "id": "Ths_Yn2EB3-K",
        "colab_type": "text"
      },
      "cell_type": "markdown",
      "source": [
        "\n",
        "Character-Level LSTM in PyTorch"
      ]
    },
    {
      "metadata": {
        "id": "w4Shv3fbBryk",
        "colab_type": "code",
        "colab": {}
      },
      "cell_type": "code",
      "source": [
        "\n",
        "# http://pytorch.org/\n",
        "from os.path import exists\n",
        "from wheel.pep425tags import get_abbr_impl, get_impl_ver, get_abi_tag\n",
        "platform = '{}{}-{}'.format(get_abbr_impl(), get_impl_ver(), get_abi_tag())\n",
        "cuda_output = !ldconfig -p|grep cudart.so|sed -e 's/.*\\.\\([0-9]*\\)\\.\\([0-9]*\\)$/cu\\1\\2/'\n",
        "accelerator = cuda_output[0] if exists('/dev/nvidia0') else 'cpu'\n",
        "\n",
        "!pip install -q http://download.pytorch.org/whl/{accelerator}/torch-0.4.1-{platform}-linux_x86_64.whl torchvision\n",
        "import torch"
      ],
      "execution_count": 0,
      "outputs": []
    },
    {
      "metadata": {
        "id": "Xt5l3B2AbMI8",
        "colab_type": "code",
        "outputId": "92c51420-18db-4753-b27a-04eecab32763",
        "colab": {
          "base_uri": "https://localhost:8080/",
          "height": 170
        }
      },
      "cell_type": "code",
      "source": [
        "!pip install PyPDF2"
      ],
      "execution_count": 2,
      "outputs": [
        {
          "output_type": "stream",
          "text": [
            "Collecting PyPDF2\n",
            "\u001b[?25l  Downloading https://files.pythonhosted.org/packages/b4/01/68fcc0d43daf4c6bdbc6b33cc3f77bda531c86b174cac56ef0ffdb96faab/PyPDF2-1.26.0.tar.gz (77kB)\n",
            "\u001b[K    100% |████████████████████████████████| 81kB 2.4MB/s \n",
            "\u001b[?25hBuilding wheels for collected packages: PyPDF2\n",
            "  Running setup.py bdist_wheel for PyPDF2 ... \u001b[?25l-\b \b\\\b \bdone\n",
            "\u001b[?25h  Stored in directory: /root/.cache/pip/wheels/53/84/19/35bc977c8bf5f0c23a8a011aa958acd4da4bbd7a229315c1b7\n",
            "Successfully built PyPDF2\n",
            "Installing collected packages: PyPDF2\n",
            "Successfully installed PyPDF2-1.26.0\n"
          ],
          "name": "stdout"
        }
      ]
    },
    {
      "metadata": {
        "id": "7q8dChK-cAVD",
        "colab_type": "code",
        "colab": {}
      },
      "cell_type": "code",
      "source": [
        "import PyPDF2"
      ],
      "execution_count": 0,
      "outputs": []
    },
    {
      "metadata": {
        "id": "2kefvLDvB4h1",
        "colab_type": "code",
        "outputId": "f11739e3-a9ce-4cf4-de6f-0acb48419251",
        "colab": {
          "resources": {
            "http://localhost:8080/nbextensions/google.colab/files.js": {
              "data": "Ly8gQ29weXJpZ2h0IDIwMTcgR29vZ2xlIExMQwovLwovLyBMaWNlbnNlZCB1bmRlciB0aGUgQXBhY2hlIExpY2Vuc2UsIFZlcnNpb24gMi4wICh0aGUgIkxpY2Vuc2UiKTsKLy8geW91IG1heSBub3QgdXNlIHRoaXMgZmlsZSBleGNlcHQgaW4gY29tcGxpYW5jZSB3aXRoIHRoZSBMaWNlbnNlLgovLyBZb3UgbWF5IG9idGFpbiBhIGNvcHkgb2YgdGhlIExpY2Vuc2UgYXQKLy8KLy8gICAgICBodHRwOi8vd3d3LmFwYWNoZS5vcmcvbGljZW5zZXMvTElDRU5TRS0yLjAKLy8KLy8gVW5sZXNzIHJlcXVpcmVkIGJ5IGFwcGxpY2FibGUgbGF3IG9yIGFncmVlZCB0byBpbiB3cml0aW5nLCBzb2Z0d2FyZQovLyBkaXN0cmlidXRlZCB1bmRlciB0aGUgTGljZW5zZSBpcyBkaXN0cmlidXRlZCBvbiBhbiAiQVMgSVMiIEJBU0lTLAovLyBXSVRIT1VUIFdBUlJBTlRJRVMgT1IgQ09ORElUSU9OUyBPRiBBTlkgS0lORCwgZWl0aGVyIGV4cHJlc3Mgb3IgaW1wbGllZC4KLy8gU2VlIHRoZSBMaWNlbnNlIGZvciB0aGUgc3BlY2lmaWMgbGFuZ3VhZ2UgZ292ZXJuaW5nIHBlcm1pc3Npb25zIGFuZAovLyBsaW1pdGF0aW9ucyB1bmRlciB0aGUgTGljZW5zZS4KCi8qKgogKiBAZmlsZW92ZXJ2aWV3IEhlbHBlcnMgZm9yIGdvb2dsZS5jb2xhYiBQeXRob24gbW9kdWxlLgogKi8KKGZ1bmN0aW9uKHNjb3BlKSB7CmZ1bmN0aW9uIHNwYW4odGV4dCwgc3R5bGVBdHRyaWJ1dGVzID0ge30pIHsKICBjb25zdCBlbGVtZW50ID0gZG9jdW1lbnQuY3JlYXRlRWxlbWVudCgnc3BhbicpOwogIGVsZW1lbnQudGV4dENvbnRlbnQgPSB0ZXh0OwogIGZvciAoY29uc3Qga2V5IG9mIE9iamVjdC5rZXlzKHN0eWxlQXR0cmlidXRlcykpIHsKICAgIGVsZW1lbnQuc3R5bGVba2V5XSA9IHN0eWxlQXR0cmlidXRlc1trZXldOwogIH0KICByZXR1cm4gZWxlbWVudDsKfQoKLy8gTWF4IG51bWJlciBvZiBieXRlcyB3aGljaCB3aWxsIGJlIHVwbG9hZGVkIGF0IGEgdGltZS4KY29uc3QgTUFYX1BBWUxPQURfU0laRSA9IDEwMCAqIDEwMjQ7Ci8vIE1heCBhbW91bnQgb2YgdGltZSB0byBibG9jayB3YWl0aW5nIGZvciB0aGUgdXNlci4KY29uc3QgRklMRV9DSEFOR0VfVElNRU9VVF9NUyA9IDMwICogMTAwMDsKCmZ1bmN0aW9uIF91cGxvYWRGaWxlcyhpbnB1dElkLCBvdXRwdXRJZCkgewogIGNvbnN0IHN0ZXBzID0gdXBsb2FkRmlsZXNTdGVwKGlucHV0SWQsIG91dHB1dElkKTsKICBjb25zdCBvdXRwdXRFbGVtZW50ID0gZG9jdW1lbnQuZ2V0RWxlbWVudEJ5SWQob3V0cHV0SWQpOwogIC8vIENhY2hlIHN0ZXBzIG9uIHRoZSBvdXRwdXRFbGVtZW50IHRvIG1ha2UgaXQgYXZhaWxhYmxlIGZvciB0aGUgbmV4dCBjYWxsCiAgLy8gdG8gdXBsb2FkRmlsZXNDb250aW51ZSBmcm9tIFB5dGhvbi4KICBvdXRwdXRFbGVtZW50LnN0ZXBzID0gc3RlcHM7CgogIHJldHVybiBfdXBsb2FkRmlsZXNDb250aW51ZShvdXRwdXRJZCk7Cn0KCi8vIFRoaXMgaXMgcm91Z2hseSBhbiBhc3luYyBnZW5lcmF0b3IgKG5vdCBzdXBwb3J0ZWQgaW4gdGhlIGJyb3dzZXIgeWV0KSwKLy8gd2hlcmUgdGhlcmUgYXJlIG11bHRpcGxlIGFzeW5jaHJvbm91cyBzdGVwcyBhbmQgdGhlIFB5dGhvbiBzaWRlIGlzIGdvaW5nCi8vIHRvIHBvbGwgZm9yIGNvbXBsZXRpb24gb2YgZWFjaCBzdGVwLgovLyBUaGlzIHVzZXMgYSBQcm9taXNlIHRvIGJsb2NrIHRoZSBweXRob24gc2lkZSBvbiBjb21wbGV0aW9uIG9mIGVhY2ggc3RlcCwKLy8gdGhlbiBwYXNzZXMgdGhlIHJlc3VsdCBvZiB0aGUgcHJldmlvdXMgc3RlcCBhcyB0aGUgaW5wdXQgdG8gdGhlIG5leHQgc3RlcC4KZnVuY3Rpb24gX3VwbG9hZEZpbGVzQ29udGludWUob3V0cHV0SWQpIHsKICBjb25zdCBvdXRwdXRFbGVtZW50ID0gZG9jdW1lbnQuZ2V0RWxlbWVudEJ5SWQob3V0cHV0SWQpOwogIGNvbnN0IHN0ZXBzID0gb3V0cHV0RWxlbWVudC5zdGVwczsKCiAgY29uc3QgbmV4dCA9IHN0ZXBzLm5leHQob3V0cHV0RWxlbWVudC5sYXN0UHJvbWlzZVZhbHVlKTsKICByZXR1cm4gUHJvbWlzZS5yZXNvbHZlKG5leHQudmFsdWUucHJvbWlzZSkudGhlbigodmFsdWUpID0+IHsKICAgIC8vIENhY2hlIHRoZSBsYXN0IHByb21pc2UgdmFsdWUgdG8gbWFrZSBpdCBhdmFpbGFibGUgdG8gdGhlIG5leHQKICAgIC8vIHN0ZXAgb2YgdGhlIGdlbmVyYXRvci4KICAgIG91dHB1dEVsZW1lbnQubGFzdFByb21pc2VWYWx1ZSA9IHZhbHVlOwogICAgcmV0dXJuIG5leHQudmFsdWUucmVzcG9uc2U7CiAgfSk7Cn0KCi8qKgogKiBHZW5lcmF0b3IgZnVuY3Rpb24gd2hpY2ggaXMgY2FsbGVkIGJldHdlZW4gZWFjaCBhc3luYyBzdGVwIG9mIHRoZSB1cGxvYWQKICogcHJvY2Vzcy4KICogQHBhcmFtIHtzdHJpbmd9IGlucHV0SWQgRWxlbWVudCBJRCBvZiB0aGUgaW5wdXQgZmlsZSBwaWNrZXIgZWxlbWVudC4KICogQHBhcmFtIHtzdHJpbmd9IG91dHB1dElkIEVsZW1lbnQgSUQgb2YgdGhlIG91dHB1dCBkaXNwbGF5LgogKiBAcmV0dXJuIHshSXRlcmFibGU8IU9iamVjdD59IEl0ZXJhYmxlIG9mIG5leHQgc3RlcHMuCiAqLwpmdW5jdGlvbiogdXBsb2FkRmlsZXNTdGVwKGlucHV0SWQsIG91dHB1dElkKSB7CiAgY29uc3QgaW5wdXRFbGVtZW50ID0gZG9jdW1lbnQuZ2V0RWxlbWVudEJ5SWQoaW5wdXRJZCk7CiAgaW5wdXRFbGVtZW50LmRpc2FibGVkID0gZmFsc2U7CgogIGNvbnN0IG91dHB1dEVsZW1lbnQgPSBkb2N1bWVudC5nZXRFbGVtZW50QnlJZChvdXRwdXRJZCk7CiAgb3V0cHV0RWxlbWVudC5pbm5lckhUTUwgPSAnJzsKCiAgY29uc3QgcGlja2VkUHJvbWlzZSA9IG5ldyBQcm9taXNlKChyZXNvbHZlKSA9PiB7CiAgICBpbnB1dEVsZW1lbnQuYWRkRXZlbnRMaXN0ZW5lcignY2hhbmdlJywgKGUpID0+IHsKICAgICAgcmVzb2x2ZShlLnRhcmdldC5maWxlcyk7CiAgICB9KTsKICB9KTsKCiAgY29uc3QgY2FuY2VsID0gZG9jdW1lbnQuY3JlYXRlRWxlbWVudCgnYnV0dG9uJyk7CiAgaW5wdXRFbGVtZW50LnBhcmVudEVsZW1lbnQuYXBwZW5kQ2hpbGQoY2FuY2VsKTsKICBjYW5jZWwudGV4dENvbnRlbnQgPSAnQ2FuY2VsIHVwbG9hZCc7CiAgY29uc3QgY2FuY2VsUHJvbWlzZSA9IG5ldyBQcm9taXNlKChyZXNvbHZlKSA9PiB7CiAgICBjYW5jZWwub25jbGljayA9ICgpID0+IHsKICAgICAgcmVzb2x2ZShudWxsKTsKICAgIH07CiAgfSk7CgogIC8vIENhbmNlbCB1cGxvYWQgaWYgdXNlciBoYXNuJ3QgcGlja2VkIGFueXRoaW5nIGluIHRpbWVvdXQuCiAgY29uc3QgdGltZW91dFByb21pc2UgPSBuZXcgUHJvbWlzZSgocmVzb2x2ZSkgPT4gewogICAgc2V0VGltZW91dCgoKSA9PiB7CiAgICAgIHJlc29sdmUobnVsbCk7CiAgICB9LCBGSUxFX0NIQU5HRV9USU1FT1VUX01TKTsKICB9KTsKCiAgLy8gV2FpdCBmb3IgdGhlIHVzZXIgdG8gcGljayB0aGUgZmlsZXMuCiAgY29uc3QgZmlsZXMgPSB5aWVsZCB7CiAgICBwcm9taXNlOiBQcm9taXNlLnJhY2UoW3BpY2tlZFByb21pc2UsIHRpbWVvdXRQcm9taXNlLCBjYW5jZWxQcm9taXNlXSksCiAgICByZXNwb25zZTogewogICAgICBhY3Rpb246ICdzdGFydGluZycsCiAgICB9CiAgfTsKCiAgaWYgKCFmaWxlcykgewogICAgcmV0dXJuIHsKICAgICAgcmVzcG9uc2U6IHsKICAgICAgICBhY3Rpb246ICdjb21wbGV0ZScsCiAgICAgIH0KICAgIH07CiAgfQoKICBjYW5jZWwucmVtb3ZlKCk7CgogIC8vIERpc2FibGUgdGhlIGlucHV0IGVsZW1lbnQgc2luY2UgZnVydGhlciBwaWNrcyBhcmUgbm90IGFsbG93ZWQuCiAgaW5wdXRFbGVtZW50LmRpc2FibGVkID0gdHJ1ZTsKCiAgZm9yIChjb25zdCBmaWxlIG9mIGZpbGVzKSB7CiAgICBjb25zdCBsaSA9IGRvY3VtZW50LmNyZWF0ZUVsZW1lbnQoJ2xpJyk7CiAgICBsaS5hcHBlbmQoc3BhbihmaWxlLm5hbWUsIHtmb250V2VpZ2h0OiAnYm9sZCd9KSk7CiAgICBsaS5hcHBlbmQoc3BhbigKICAgICAgICBgKCR7ZmlsZS50eXBlIHx8ICduL2EnfSkgLSAke2ZpbGUuc2l6ZX0gYnl0ZXMsIGAgKwogICAgICAgIGBsYXN0IG1vZGlmaWVkOiAkewogICAgICAgICAgICBmaWxlLmxhc3RNb2RpZmllZERhdGUgPyBmaWxlLmxhc3RNb2RpZmllZERhdGUudG9Mb2NhbGVEYXRlU3RyaW5nKCkgOgogICAgICAgICAgICAgICAgICAgICAgICAgICAgICAgICAgICAnbi9hJ30gLSBgKSk7CiAgICBjb25zdCBwZXJjZW50ID0gc3BhbignMCUgZG9uZScpOwogICAgbGkuYXBwZW5kQ2hpbGQocGVyY2VudCk7CgogICAgb3V0cHV0RWxlbWVudC5hcHBlbmRDaGlsZChsaSk7CgogICAgY29uc3QgZmlsZURhdGFQcm9taXNlID0gbmV3IFByb21pc2UoKHJlc29sdmUpID0+IHsKICAgICAgY29uc3QgcmVhZGVyID0gbmV3IEZpbGVSZWFkZXIoKTsKICAgICAgcmVhZGVyLm9ubG9hZCA9IChlKSA9PiB7CiAgICAgICAgcmVzb2x2ZShlLnRhcmdldC5yZXN1bHQpOwogICAgICB9OwogICAgICByZWFkZXIucmVhZEFzQXJyYXlCdWZmZXIoZmlsZSk7CiAgICB9KTsKICAgIC8vIFdhaXQgZm9yIHRoZSBkYXRhIHRvIGJlIHJlYWR5LgogICAgbGV0IGZpbGVEYXRhID0geWllbGQgewogICAgICBwcm9taXNlOiBmaWxlRGF0YVByb21pc2UsCiAgICAgIHJlc3BvbnNlOiB7CiAgICAgICAgYWN0aW9uOiAnY29udGludWUnLAogICAgICB9CiAgICB9OwoKICAgIC8vIFVzZSBhIGNodW5rZWQgc2VuZGluZyB0byBhdm9pZCBtZXNzYWdlIHNpemUgbGltaXRzLiBTZWUgYi82MjExNTY2MC4KICAgIGxldCBwb3NpdGlvbiA9IDA7CiAgICB3aGlsZSAocG9zaXRpb24gPCBmaWxlRGF0YS5ieXRlTGVuZ3RoKSB7CiAgICAgIGNvbnN0IGxlbmd0aCA9IE1hdGgubWluKGZpbGVEYXRhLmJ5dGVMZW5ndGggLSBwb3NpdGlvbiwgTUFYX1BBWUxPQURfU0laRSk7CiAgICAgIGNvbnN0IGNodW5rID0gbmV3IFVpbnQ4QXJyYXkoZmlsZURhdGEsIHBvc2l0aW9uLCBsZW5ndGgpOwogICAgICBwb3NpdGlvbiArPSBsZW5ndGg7CgogICAgICBjb25zdCBiYXNlNjQgPSBidG9hKFN0cmluZy5mcm9tQ2hhckNvZGUuYXBwbHkobnVsbCwgY2h1bmspKTsKICAgICAgeWllbGQgewogICAgICAgIHJlc3BvbnNlOiB7CiAgICAgICAgICBhY3Rpb246ICdhcHBlbmQnLAogICAgICAgICAgZmlsZTogZmlsZS5uYW1lLAogICAgICAgICAgZGF0YTogYmFzZTY0LAogICAgICAgIH0sCiAgICAgIH07CiAgICAgIHBlcmNlbnQudGV4dENvbnRlbnQgPQogICAgICAgICAgYCR7TWF0aC5yb3VuZCgocG9zaXRpb24gLyBmaWxlRGF0YS5ieXRlTGVuZ3RoKSAqIDEwMCl9JSBkb25lYDsKICAgIH0KICB9CgogIC8vIEFsbCBkb25lLgogIHlpZWxkIHsKICAgIHJlc3BvbnNlOiB7CiAgICAgIGFjdGlvbjogJ2NvbXBsZXRlJywKICAgIH0KICB9Owp9CgpzY29wZS5nb29nbGUgPSBzY29wZS5nb29nbGUgfHwge307CnNjb3BlLmdvb2dsZS5jb2xhYiA9IHNjb3BlLmdvb2dsZS5jb2xhYiB8fCB7fTsKc2NvcGUuZ29vZ2xlLmNvbGFiLl9maWxlcyA9IHsKICBfdXBsb2FkRmlsZXMsCiAgX3VwbG9hZEZpbGVzQ29udGludWUsCn07Cn0pKHNlbGYpOwo=",
              "ok": true,
              "headers": [
                [
                  "content-type",
                  "application/javascript"
                ]
              ],
              "status": 200,
              "status_text": ""
            }
          },
          "base_uri": "https://localhost:8080/",
          "height": 86
        }
      },
      "cell_type": "code",
      "source": [
        "from google.colab import files\n",
        "\n",
        "uploaded = files.upload()\n",
        "\n",
        "for fn in uploaded.keys():\n",
        "  print('User uploaded file \"{name}\" with length {length} bytes'.format(\n",
        "      name=fn, length=len(uploaded[fn])))\n",
        "  with open(fn, 'r') as file:\n",
        "     content = file.read()\n",
        "  "
      ],
      "execution_count": 4,
      "outputs": [
        {
          "output_type": "display_data",
          "data": {
            "text/html": [
              "\n",
              "     <input type=\"file\" id=\"files-302263eb-5274-4f21-af3b-8a4f0511d5af\" name=\"files[]\" multiple disabled />\n",
              "     <output id=\"result-302263eb-5274-4f21-af3b-8a4f0511d5af\">\n",
              "      Upload widget is only available when the cell has been executed in the\n",
              "      current browser session. Please rerun this cell to enable.\n",
              "      </output>\n",
              "      <script src=\"/nbextensions/google.colab/files.js\"></script> "
            ],
            "text/plain": [
              "<IPython.core.display.HTML object>"
            ]
          },
          "metadata": {
            "tags": []
          }
        },
        {
          "output_type": "stream",
          "text": [
            "Saving The subtle act of not giving a fuck.txt to The subtle act of not giving a fuck.txt\n",
            "User uploaded file \"The subtle act of not giving a fuck.txt\" with length 318254 bytes\n"
          ],
          "name": "stdout"
        }
      ]
    },
    {
      "metadata": {
        "id": "Zrz1dsahaxGx",
        "colab_type": "code",
        "outputId": "c4f2157a-a658-49c2-d244-2ef54bf6cf00",
        "colab": {
          "base_uri": "https://localhost:8080/",
          "height": 54
        }
      },
      "cell_type": "code",
      "source": [
        "content[:200]"
      ],
      "execution_count": 5,
      "outputs": [
        {
          "output_type": "execute_result",
          "data": {
            "text/plain": [
              "'\\x0c\\x0c\\x0c\\x0cCONTENTS\\n\\nC HAPTER 1: Don’t Try\\nThe Feedback Loop from Hell\\nThe Subtle Art of Not Giving a Fuck\\nSo Mark, What the Fuck Is the Point of This Book Anyway?\\nC HAPTER 2: Happiness Is a Problem\\nThe Misa'"
            ]
          },
          "metadata": {
            "tags": []
          },
          "execution_count": 5
        }
      ]
    },
    {
      "metadata": {
        "id": "TPiQPqKfg0OX",
        "colab_type": "text"
      },
      "cell_type": "markdown",
      "source": [
        "Tokenization"
      ]
    },
    {
      "metadata": {
        "id": "DAgm74vNgoZq",
        "colab_type": "code",
        "colab": {}
      },
      "cell_type": "code",
      "source": [
        "chars = tuple(set(content))"
      ],
      "execution_count": 0,
      "outputs": []
    },
    {
      "metadata": {
        "id": "ygZs7Y0vhQli",
        "colab_type": "code",
        "outputId": "ab3a0cb2-a04b-493b-851b-8d67b60589e8",
        "colab": {
          "base_uri": "https://localhost:8080/",
          "height": 1564
        }
      },
      "cell_type": "code",
      "source": [
        "chars"
      ],
      "execution_count": 7,
      "outputs": [
        {
          "output_type": "execute_result",
          "data": {
            "text/plain": [
              "('g',\n",
              " '7',\n",
              " '1',\n",
              " 'W',\n",
              " 'e',\n",
              " 'C',\n",
              " '’',\n",
              " '3',\n",
              " '\\x0c',\n",
              " 'q',\n",
              " '(',\n",
              " '4',\n",
              " ')',\n",
              " 'V',\n",
              " 'p',\n",
              " '—',\n",
              " 'S',\n",
              " 'o',\n",
              " 'h',\n",
              " 'b',\n",
              " 'j',\n",
              " ',',\n",
              " 'K',\n",
              " '|',\n",
              " '8',\n",
              " '[',\n",
              " 'D',\n",
              " 'c',\n",
              " 'Z',\n",
              " 'J',\n",
              " '#',\n",
              " 'O',\n",
              " '5',\n",
              " '\\n',\n",
              " 'F',\n",
              " '“',\n",
              " '.',\n",
              " 'I',\n",
              " 'v',\n",
              " 'H',\n",
              " '&',\n",
              " '6',\n",
              " 'i',\n",
              " 'Y',\n",
              " 'u',\n",
              " ';',\n",
              " 'X',\n",
              " 'R',\n",
              " 'L',\n",
              " ']',\n",
              " ' ',\n",
              " 'N',\n",
              " '/',\n",
              " '‘',\n",
              " 'y',\n",
              " 's',\n",
              " 'w',\n",
              " '-',\n",
              " '9',\n",
              " 'M',\n",
              " '?',\n",
              " '2',\n",
              " 'x',\n",
              " 'B',\n",
              " 'a',\n",
              " 'r',\n",
              " 'ç',\n",
              " 'A',\n",
              " 'n',\n",
              " 'z',\n",
              " 'd',\n",
              " 't',\n",
              " 'U',\n",
              " ':',\n",
              " 'é',\n",
              " '0',\n",
              " '!',\n",
              " 'P',\n",
              " 'Q',\n",
              " 'à',\n",
              " '”',\n",
              " '–',\n",
              " 'G',\n",
              " 'f',\n",
              " 'l',\n",
              " 'k',\n",
              " 'E',\n",
              " '©',\n",
              " 'm',\n",
              " 'T',\n",
              " '→')"
            ]
          },
          "metadata": {
            "tags": []
          },
          "execution_count": 7
        }
      ]
    },
    {
      "metadata": {
        "id": "lHZXTokHhRR5",
        "colab_type": "code",
        "colab": {}
      },
      "cell_type": "code",
      "source": [
        "int2char = dict(enumerate(chars))"
      ],
      "execution_count": 0,
      "outputs": []
    },
    {
      "metadata": {
        "id": "xOwu29nkh-a-",
        "colab_type": "code",
        "outputId": "27f30c1e-39b2-4ffe-fa84-e585519f7d25",
        "colab": {
          "base_uri": "https://localhost:8080/",
          "height": 1564
        }
      },
      "cell_type": "code",
      "source": [
        "int2char"
      ],
      "execution_count": 9,
      "outputs": [
        {
          "output_type": "execute_result",
          "data": {
            "text/plain": [
              "{0: 'g',\n",
              " 1: '7',\n",
              " 2: '1',\n",
              " 3: 'W',\n",
              " 4: 'e',\n",
              " 5: 'C',\n",
              " 6: '’',\n",
              " 7: '3',\n",
              " 8: '\\x0c',\n",
              " 9: 'q',\n",
              " 10: '(',\n",
              " 11: '4',\n",
              " 12: ')',\n",
              " 13: 'V',\n",
              " 14: 'p',\n",
              " 15: '—',\n",
              " 16: 'S',\n",
              " 17: 'o',\n",
              " 18: 'h',\n",
              " 19: 'b',\n",
              " 20: 'j',\n",
              " 21: ',',\n",
              " 22: 'K',\n",
              " 23: '|',\n",
              " 24: '8',\n",
              " 25: '[',\n",
              " 26: 'D',\n",
              " 27: 'c',\n",
              " 28: 'Z',\n",
              " 29: 'J',\n",
              " 30: '#',\n",
              " 31: 'O',\n",
              " 32: '5',\n",
              " 33: '\\n',\n",
              " 34: 'F',\n",
              " 35: '“',\n",
              " 36: '.',\n",
              " 37: 'I',\n",
              " 38: 'v',\n",
              " 39: 'H',\n",
              " 40: '&',\n",
              " 41: '6',\n",
              " 42: 'i',\n",
              " 43: 'Y',\n",
              " 44: 'u',\n",
              " 45: ';',\n",
              " 46: 'X',\n",
              " 47: 'R',\n",
              " 48: 'L',\n",
              " 49: ']',\n",
              " 50: ' ',\n",
              " 51: 'N',\n",
              " 52: '/',\n",
              " 53: '‘',\n",
              " 54: 'y',\n",
              " 55: 's',\n",
              " 56: 'w',\n",
              " 57: '-',\n",
              " 58: '9',\n",
              " 59: 'M',\n",
              " 60: '?',\n",
              " 61: '2',\n",
              " 62: 'x',\n",
              " 63: 'B',\n",
              " 64: 'a',\n",
              " 65: 'r',\n",
              " 66: 'ç',\n",
              " 67: 'A',\n",
              " 68: 'n',\n",
              " 69: 'z',\n",
              " 70: 'd',\n",
              " 71: 't',\n",
              " 72: 'U',\n",
              " 73: ':',\n",
              " 74: 'é',\n",
              " 75: '0',\n",
              " 76: '!',\n",
              " 77: 'P',\n",
              " 78: 'Q',\n",
              " 79: 'à',\n",
              " 80: '”',\n",
              " 81: '–',\n",
              " 82: 'G',\n",
              " 83: 'f',\n",
              " 84: 'l',\n",
              " 85: 'k',\n",
              " 86: 'E',\n",
              " 87: '©',\n",
              " 88: 'm',\n",
              " 89: 'T',\n",
              " 90: '→'}"
            ]
          },
          "metadata": {
            "tags": []
          },
          "execution_count": 9
        }
      ]
    },
    {
      "metadata": {
        "id": "j9N0unM0iA9f",
        "colab_type": "code",
        "colab": {}
      },
      "cell_type": "code",
      "source": [
        "char2int = {ch: ii for ii, ch in int2char.items()}"
      ],
      "execution_count": 0,
      "outputs": []
    },
    {
      "metadata": {
        "id": "D8ryv6RQiIng",
        "colab_type": "code",
        "outputId": "43986537-03c8-476a-9d44-c1ac4c7f8bbe",
        "colab": {
          "base_uri": "https://localhost:8080/",
          "height": 1564
        }
      },
      "cell_type": "code",
      "source": [
        "char2int"
      ],
      "execution_count": 11,
      "outputs": [
        {
          "output_type": "execute_result",
          "data": {
            "text/plain": [
              "{'\\n': 33,\n",
              " '\\x0c': 8,\n",
              " ' ': 50,\n",
              " '!': 76,\n",
              " '#': 30,\n",
              " '&': 40,\n",
              " '(': 10,\n",
              " ')': 12,\n",
              " ',': 21,\n",
              " '-': 57,\n",
              " '.': 36,\n",
              " '/': 52,\n",
              " '0': 75,\n",
              " '1': 2,\n",
              " '2': 61,\n",
              " '3': 7,\n",
              " '4': 11,\n",
              " '5': 32,\n",
              " '6': 41,\n",
              " '7': 1,\n",
              " '8': 24,\n",
              " '9': 58,\n",
              " ':': 73,\n",
              " ';': 45,\n",
              " '?': 60,\n",
              " 'A': 67,\n",
              " 'B': 63,\n",
              " 'C': 5,\n",
              " 'D': 26,\n",
              " 'E': 86,\n",
              " 'F': 34,\n",
              " 'G': 82,\n",
              " 'H': 39,\n",
              " 'I': 37,\n",
              " 'J': 29,\n",
              " 'K': 22,\n",
              " 'L': 48,\n",
              " 'M': 59,\n",
              " 'N': 51,\n",
              " 'O': 31,\n",
              " 'P': 77,\n",
              " 'Q': 78,\n",
              " 'R': 47,\n",
              " 'S': 16,\n",
              " 'T': 89,\n",
              " 'U': 72,\n",
              " 'V': 13,\n",
              " 'W': 3,\n",
              " 'X': 46,\n",
              " 'Y': 43,\n",
              " 'Z': 28,\n",
              " '[': 25,\n",
              " ']': 49,\n",
              " 'a': 64,\n",
              " 'b': 19,\n",
              " 'c': 27,\n",
              " 'd': 70,\n",
              " 'e': 4,\n",
              " 'f': 83,\n",
              " 'g': 0,\n",
              " 'h': 18,\n",
              " 'i': 42,\n",
              " 'j': 20,\n",
              " 'k': 85,\n",
              " 'l': 84,\n",
              " 'm': 88,\n",
              " 'n': 68,\n",
              " 'o': 17,\n",
              " 'p': 14,\n",
              " 'q': 9,\n",
              " 'r': 65,\n",
              " 's': 55,\n",
              " 't': 71,\n",
              " 'u': 44,\n",
              " 'v': 38,\n",
              " 'w': 56,\n",
              " 'x': 62,\n",
              " 'y': 54,\n",
              " 'z': 69,\n",
              " '|': 23,\n",
              " '©': 87,\n",
              " 'à': 79,\n",
              " 'ç': 66,\n",
              " 'é': 74,\n",
              " '–': 81,\n",
              " '—': 15,\n",
              " '‘': 53,\n",
              " '’': 6,\n",
              " '“': 35,\n",
              " '”': 80,\n",
              " '→': 90}"
            ]
          },
          "metadata": {
            "tags": []
          },
          "execution_count": 11
        }
      ]
    },
    {
      "metadata": {
        "id": "blkQJbbPiJsH",
        "colab_type": "code",
        "colab": {}
      },
      "cell_type": "code",
      "source": [
        "import numpy as np\n",
        "encoded = np.array([char2int[ch] for ch in content])"
      ],
      "execution_count": 0,
      "outputs": []
    },
    {
      "metadata": {
        "id": "7W-SWqgDiPTT",
        "colab_type": "code",
        "outputId": "bf1a2230-bc48-4ddb-b177-bb80f5b2f94a",
        "colab": {
          "base_uri": "https://localhost:8080/",
          "height": 119
        }
      },
      "cell_type": "code",
      "source": [
        "\n",
        "encoded[:100]"
      ],
      "execution_count": 13,
      "outputs": [
        {
          "output_type": "execute_result",
          "data": {
            "text/plain": [
              "array([ 8,  8,  8,  8,  5, 31, 51, 89, 86, 51, 89, 16, 33, 33,  5, 50, 39,\n",
              "       67, 77, 89, 86, 47, 50,  2, 73, 50, 26, 17, 68,  6, 71, 50, 89, 65,\n",
              "       54, 33, 89, 18,  4, 50, 34,  4,  4, 70, 19, 64, 27, 85, 50, 48, 17,\n",
              "       17, 14, 50, 83, 65, 17, 88, 50, 39,  4, 84, 84, 33, 89, 18,  4, 50,\n",
              "       16, 44, 19, 71, 84,  4, 50, 67, 65, 71, 50, 17, 83, 50, 51, 17, 71,\n",
              "       50, 82, 42, 38, 42, 68,  0, 50, 64, 50, 34, 44, 27, 85, 33])"
            ]
          },
          "metadata": {
            "tags": []
          },
          "execution_count": 13
        }
      ]
    },
    {
      "metadata": {
        "id": "Q42wYf_mj_gt",
        "colab_type": "text"
      },
      "cell_type": "markdown",
      "source": [
        "Pre-Processing the data "
      ]
    },
    {
      "metadata": {
        "id": "WytMVjbuiVsr",
        "colab_type": "code",
        "colab": {}
      },
      "cell_type": "code",
      "source": [
        "def one_hot_encode(arr, n_labels):\n",
        "    one_hot = np.zeros((np.multiply(*arr.shape), n_labels), dtype=np.float32)\n",
        "    one_hot[np.arange(one_hot.shape[0]), arr.flatten()] = 1.\n",
        "    one_hot = one_hot.reshape((*arr.shape, n_labels))\n",
        "    \n",
        "    return one_hot"
      ],
      "execution_count": 0,
      "outputs": []
    },
    {
      "metadata": {
        "id": "Pt5Yl79glb_K",
        "colab_type": "code",
        "outputId": "d7b190f8-8952-4c7b-97b1-9c7664e7c6f5",
        "colab": {
          "base_uri": "https://localhost:8080/",
          "height": 68
        }
      },
      "cell_type": "code",
      "source": [
        "test_seq = np.array([[3, 5, 1]])\n",
        "one_hot = one_hot_encode(test_seq, 8)\n",
        "\n",
        "print(one_hot)"
      ],
      "execution_count": 15,
      "outputs": [
        {
          "output_type": "stream",
          "text": [
            "[[[0. 0. 0. 1. 0. 0. 0. 0.]\n",
            "  [0. 0. 0. 0. 0. 1. 0. 0.]\n",
            "  [0. 1. 0. 0. 0. 0. 0. 0.]]]\n"
          ],
          "name": "stdout"
        }
      ]
    },
    {
      "metadata": {
        "id": "us0uAZoElf-P",
        "colab_type": "code",
        "outputId": "8c415afe-c72e-467b-b98b-b313df5c090d",
        "colab": {
          "base_uri": "https://localhost:8080/",
          "height": 34
        }
      },
      "cell_type": "code",
      "source": [
        "test_seq"
      ],
      "execution_count": 16,
      "outputs": [
        {
          "output_type": "execute_result",
          "data": {
            "text/plain": [
              "array([[3, 5, 1]])"
            ]
          },
          "metadata": {
            "tags": []
          },
          "execution_count": 16
        }
      ]
    },
    {
      "metadata": {
        "id": "UkEpkr4Rl92l",
        "colab_type": "text"
      },
      "cell_type": "markdown",
      "source": [
        "Make training mini batches"
      ]
    },
    {
      "metadata": {
        "id": "PF0Y6Obuligw",
        "colab_type": "code",
        "colab": {}
      },
      "cell_type": "code",
      "source": [
        "\n",
        "def get_batches(arr, batch_size, seq_length):\n",
        "    '''Create a generator that returns batches of size\n",
        "       batch_size x seq_length from arr.\n",
        "       \n",
        "       Arguments\n",
        "       ---------\n",
        "       arr: Array you want to make batches from\n",
        "       batch_size: Batch size, the number of sequences per batch\n",
        "       seq_length: Number of encoded chars in a sequence\n",
        "    '''\n",
        "    \n",
        "    batch_size_total = batch_size * seq_length\n",
        "    # total number of batches we can make\n",
        "    n_batches = len(arr)//batch_size_total\n",
        "    \n",
        "    # Keep only enough characters to make full batches\n",
        "    arr = arr[:n_batches * batch_size_total]\n",
        "    # Reshape into batch_size rows\n",
        "    arr = arr.reshape((batch_size, -1))\n",
        "    \n",
        "    # iterate through the array, one sequence at a time\n",
        "    for n in range(0, arr.shape[1], seq_length):\n",
        "        # The features\n",
        "        x = arr[:, n:n+seq_length]\n",
        "        # The targets, shifted by one\n",
        "        y = np.zeros_like(x)\n",
        "        try:\n",
        "            y[:, :-1], y[:, -1] = x[:, 1:], arr[:, n+seq_length]\n",
        "        except IndexError:\n",
        "            y[:, :-1], y[:, -1] = x[:, 1:], arr[:, 0]\n",
        "        yield x, y"
      ],
      "execution_count": 0,
      "outputs": []
    },
    {
      "metadata": {
        "id": "d7U5wN8Xd6kS",
        "colab_type": "code",
        "colab": {}
      },
      "cell_type": "code",
      "source": [
        "batches = get_batches(encoded, 8, 50)\n",
        "x, y = next(batches)"
      ],
      "execution_count": 0,
      "outputs": []
    },
    {
      "metadata": {
        "id": "6FfPIvFQd-2M",
        "colab_type": "code",
        "colab": {
          "base_uri": "https://localhost:8080/",
          "height": 340
        },
        "outputId": "6af3fbbb-8430-4dce-c57a-0a51e153c2a7"
      },
      "cell_type": "code",
      "source": [
        "\n",
        "# printing out the first 10 items in a sequence\n",
        "print('x\\n', x[:10, :10])\n",
        "print('\\ny\\n', y[:10, :10])"
      ],
      "execution_count": 19,
      "outputs": [
        {
          "output_type": "stream",
          "text": [
            "x\n",
            " [[ 8  8  8  8  5 31 51 89 86 51]\n",
            " [55 50 71 18 64 71 50 71 18  4]\n",
            " [50 42 71 50 56 64 55 68  6 71]\n",
            " [70 65 44  0 55 36 50 39  4 50]\n",
            " [71 18 50 18 42 55 50 65 42  0]\n",
            " [50 83 64 42 84 44 65  4 55 50]\n",
            " [54 50 71 17 33  0  4 71 50 88]\n",
            " [50 71 18 42 55 50 42 70  4 64]]\n",
            "\n",
            "y\n",
            " [[ 8  8  8  5 31 51 89 86 51 89]\n",
            " [50 71 18 64 71 50 71 18  4 54]\n",
            " [42 71 50 56 64 55 68  6 71 50]\n",
            " [65 44  0 55 36 50 39  4 50 18]\n",
            " [18 50 18 42 55 50 65 42  0 18]\n",
            " [83 64 42 84 44 65  4 55 50 64]\n",
            " [50 71 17 33  0  4 71 50 88 54]\n",
            " [71 18 42 55 50 42 70  4 64 50]]\n"
          ],
          "name": "stdout"
        }
      ]
    },
    {
      "metadata": {
        "id": "bJGQDVHKfA6r",
        "colab_type": "code",
        "colab": {}
      },
      "cell_type": "code",
      "source": [
        "import torch\n",
        "from torch import nn\n",
        "import torch.nn.functional as F\n",
        "class CharRNN(nn.Module):\n",
        "    \n",
        "    def __init__(self, tokens, n_hidden=256, n_layers=2,\n",
        "                               drop_prob=0.5, lr=0.001):\n",
        "        super().__init__()\n",
        "        self.drop_prob = drop_prob\n",
        "        self.n_layers = n_layers\n",
        "        self.n_hidden = n_hidden\n",
        "        self.lr = lr\n",
        "        \n",
        "        # creating character dictionaries\n",
        "        self.chars = tokens\n",
        "        self.int2char = dict(enumerate(self.chars))\n",
        "        self.char2int = {ch: ii for ii, ch in self.int2char.items()}\n",
        "        \n",
        "        ## TODO: define the LSTM\n",
        "        self.lstm = nn.LSTM(len(self.chars), n_hidden, n_layers, \n",
        "                            dropout=drop_prob, batch_first=True)\n",
        "        \n",
        "        ## TODO: define a dropout layer\n",
        "        self.dropout = nn.Dropout(drop_prob)\n",
        "        \n",
        "        ## TODO: define the final, fully-connected output layer\n",
        "        self.fc = nn.Linear(n_hidden, len(self.chars))\n",
        "      \n",
        "    \n",
        "    def forward(self, x, hidden):\n",
        "        ''' Forward pass through the network. \n",
        "            These inputs are x, and the hidden/cell state `hidden`. '''\n",
        "                \n",
        "        ## TODO: Get the outputs and the new hidden state from the lstm\n",
        "        r_output, hidden = self.lstm(x, hidden)\n",
        "        \n",
        "        ## TODO: pass through a dropout layer\n",
        "        out = self.dropout(r_output)\n",
        "        \n",
        "        # Stack up LSTM outputs using view\n",
        "        # you may need to use contiguous to reshape the output\n",
        "        out = out.contiguous().view(-1, self.n_hidden)\n",
        "        \n",
        "        ## TODO: put x through the fully-connected layer\n",
        "        out = self.fc(out)\n",
        "        \n",
        "        # return the final output and the hidden state\n",
        "        return out, hidden\n",
        "    \n",
        "    \n",
        "    def init_hidden(self, batch_size):\n",
        "        ''' Initializes hidden state '''\n",
        "        # Create two new tensors with sizes n_layers x batch_size x n_hidden,\n",
        "        # initialized to zero, for hidden state and cell state of LSTM\n",
        "        weight = next(self.parameters()).data\n",
        "        \n",
        "        hidden = (weight.new(self.n_layers, batch_size, self.n_hidden).zero_(),\n",
        "                      weight.new(self.n_layers, batch_size, self.n_hidden).zero_())\n",
        "        \n",
        "        return hidden"
      ],
      "execution_count": 0,
      "outputs": []
    },
    {
      "metadata": {
        "id": "AmVAz5fGfovl",
        "colab_type": "code",
        "colab": {}
      },
      "cell_type": "code",
      "source": [
        "def train(net, data, epochs=10, batch_size=10, seq_length=50, lr=0.001, clip=5, val_frac=0.1, print_every=10):\n",
        "    ''' Training a network \n",
        "    \n",
        "        Arguments\n",
        "        ---------\n",
        "        \n",
        "        net: CharRNN network\n",
        "        data: text data to train the network\n",
        "        epochs: Number of epochs to train\n",
        "        batch_size: Number of mini-sequences per mini-batch, aka batch size\n",
        "        seq_length: Number of character steps per mini-batch\n",
        "        lr: learning rate\n",
        "        clip: gradient clipping\n",
        "        val_frac: Fraction of data to hold out for validation\n",
        "        print_every: Number of steps for printing training and validation loss\n",
        "    \n",
        "    '''\n",
        "    net.train()\n",
        "    \n",
        "    opt = torch.optim.Adam(net.parameters(), lr=lr)\n",
        "    criterion = nn.CrossEntropyLoss()\n",
        "    \n",
        "    # create training and validation data\n",
        "    val_idx = int(len(data)*(1-val_frac))\n",
        "    data, val_data = data[:val_idx], data[val_idx:]\n",
        "    \n",
        "    \n",
        "    counter = 0\n",
        "    n_chars = len(net.chars)\n",
        "    for e in range(epochs):\n",
        "        # initialize hidden state\n",
        "        h = net.init_hidden(batch_size)\n",
        "        \n",
        "        for x, y in get_batches(data, batch_size, seq_length):\n",
        "            counter += 1\n",
        "            \n",
        "            # One-hot encode our data and make them Torch tensors\n",
        "            x = one_hot_encode(x, n_chars)\n",
        "            inputs, targets = torch.from_numpy(x), torch.from_numpy(y)\n",
        "            \n",
        "\n",
        "            # Creating new variables for the hidden state, otherwise\n",
        "            # we'd backprop through the entire training history\n",
        "            h = tuple([each.data for each in h])\n",
        "\n",
        "            # zero accumulated gradients\n",
        "            net.zero_grad()\n",
        "            \n",
        "            # get the output from the model\n",
        "            output, h = net(inputs, h)\n",
        "            \n",
        "            # calculate the loss and perform backprop\n",
        "            loss = criterion(output, targets.view(batch_size*seq_length))\n",
        "            loss.backward()\n",
        "            # `clip_grad_norm` helps prevent the exploding gradient problem in RNNs / LSTMs.\n",
        "            nn.utils.clip_grad_norm_(net.parameters(), clip)\n",
        "            opt.step()\n",
        "            \n",
        "            # loss stats\n",
        "            if counter % print_every == 0:\n",
        "                # Get validation loss\n",
        "                val_h = net.init_hidden(batch_size)\n",
        "                val_losses = []\n",
        "                net.eval()\n",
        "                for x, y in get_batches(val_data, batch_size, seq_length):\n",
        "                    # One-hot encode our data and make them Torch tensors\n",
        "                    x = one_hot_encode(x, n_chars)\n",
        "                    x, y = torch.from_numpy(x), torch.from_numpy(y)\n",
        "                    \n",
        "                    # Creating new variables for the hidden state, otherwise\n",
        "                    # we'd backprop through the entire training history\n",
        "                    val_h = tuple([each.data for each in val_h])\n",
        "                    \n",
        "                    inputs, targets = x, y\n",
        "\n",
        "                    output, val_h = net(inputs, val_h)\n",
        "                    val_loss = criterion(output, targets.view(batch_size*seq_length))\n",
        "                \n",
        "                    val_losses.append(val_loss.item())\n",
        "                \n",
        "                net.train() # reset to train mode after iterationg through validation data\n",
        "                \n",
        "                print(\"Epoch: {}/{}...\".format(e+1, epochs),\n",
        "                      \"Step: {}...\".format(counter),\n",
        "                      \"Loss: {:.4f}...\".format(loss.item()),\n",
        "                      \"Val Loss: {:.4f}\".format(np.mean(val_losses)))"
      ],
      "execution_count": 0,
      "outputs": []
    },
    {
      "metadata": {
        "id": "1qv33bOBiTiH",
        "colab_type": "code",
        "colab": {
          "base_uri": "https://localhost:8080/",
          "height": 102
        },
        "outputId": "4be9e29d-9f0d-4f2e-d28c-68a1163a374b"
      },
      "cell_type": "code",
      "source": [
        "n_hidden=512\n",
        "n_layers=2\n",
        "\n",
        "net = CharRNN(chars, n_hidden, n_layers)\n",
        "print(net)"
      ],
      "execution_count": 22,
      "outputs": [
        {
          "output_type": "stream",
          "text": [
            "CharRNN(\n",
            "  (lstm): LSTM(91, 512, num_layers=2, batch_first=True, dropout=0.5)\n",
            "  (dropout): Dropout(p=0.5)\n",
            "  (fc): Linear(in_features=512, out_features=91, bias=True)\n",
            ")\n"
          ],
          "name": "stdout"
        }
      ]
    },
    {
      "metadata": {
        "id": "MDQUYcaGipZF",
        "colab_type": "code",
        "colab": {
          "base_uri": "https://localhost:8080/",
          "height": 765
        },
        "outputId": "3c9225bc-e5d9-4710-b7fd-ccf552557e98"
      },
      "cell_type": "code",
      "source": [
        "batch_size = 128\n",
        "seq_length = 100\n",
        "n_epochs = 20 # start smaller if you are just testing initial behavior\n",
        "\n",
        "# train the model\n",
        "train(net, encoded, epochs=n_epochs, batch_size=batch_size, seq_length=seq_length, lr=0.001, print_every=10)"
      ],
      "execution_count": 23,
      "outputs": [
        {
          "output_type": "stream",
          "text": [
            "Epoch: 1/20... Step: 10... Loss: 3.2599... Val Loss: 3.2181\n",
            "Epoch: 1/20... Step: 20... Loss: 3.1642... Val Loss: 3.1326\n",
            "Epoch: 2/20... Step: 30... Loss: 3.1487... Val Loss: 3.1125\n",
            "Epoch: 2/20... Step: 40... Loss: 3.1238... Val Loss: 3.1051\n",
            "Epoch: 3/20... Step: 50... Loss: 3.1208... Val Loss: 3.1017\n",
            "Epoch: 3/20... Step: 60... Loss: 3.1144... Val Loss: 3.0998\n",
            "Epoch: 4/20... Step: 70... Loss: 3.1329... Val Loss: 3.0970\n",
            "Epoch: 4/20... Step: 80... Loss: 3.1026... Val Loss: 3.0915\n",
            "Epoch: 5/20... Step: 90... Loss: 3.0977... Val Loss: 3.0801\n",
            "Epoch: 5/20... Step: 100... Loss: 3.0809... Val Loss: 3.0539\n",
            "Epoch: 5/20... Step: 110... Loss: 3.0329... Val Loss: 3.0004\n",
            "Epoch: 6/20... Step: 120... Loss: 2.9607... Val Loss: 2.9225\n",
            "Epoch: 6/20... Step: 130... Loss: 2.8439... Val Loss: 2.8034\n",
            "Epoch: 7/20... Step: 140... Loss: 2.7386... Val Loss: 2.7012\n",
            "Epoch: 7/20... Step: 150... Loss: 2.6573... Val Loss: 2.6136\n",
            "Epoch: 8/20... Step: 160... Loss: 2.5976... Val Loss: 2.5686\n",
            "Epoch: 8/20... Step: 170... Loss: 2.5574... Val Loss: 2.5196\n",
            "Epoch: 9/20... Step: 180... Loss: 2.5263... Val Loss: 2.4767\n",
            "Epoch: 9/20... Step: 190... Loss: 2.4591... Val Loss: 2.4516\n",
            "Epoch: 10/20... Step: 200... Loss: 2.4436... Val Loss: 2.4249\n",
            "Epoch: 10/20... Step: 210... Loss: 2.4162... Val Loss: 2.3967\n",
            "Epoch: 10/20... Step: 220... Loss: 2.3960... Val Loss: 2.3648\n",
            "Epoch: 11/20... Step: 230... Loss: 2.3611... Val Loss: 2.3392\n",
            "Epoch: 11/20... Step: 240... Loss: 2.3290... Val Loss: 2.3137\n",
            "Epoch: 12/20... Step: 250... Loss: 2.3092... Val Loss: 2.2937\n",
            "Epoch: 12/20... Step: 260... Loss: 2.2904... Val Loss: 2.2668\n",
            "Epoch: 13/20... Step: 270... Loss: 2.2753... Val Loss: 2.2470\n",
            "Epoch: 13/20... Step: 280... Loss: 2.2608... Val Loss: 2.2273\n",
            "Epoch: 14/20... Step: 290... Loss: 2.2453... Val Loss: 2.2058\n",
            "Epoch: 14/20... Step: 300... Loss: 2.1883... Val Loss: 2.1854\n",
            "Epoch: 15/20... Step: 310... Loss: 2.1743... Val Loss: 2.1662\n",
            "Epoch: 15/20... Step: 320... Loss: 2.1763... Val Loss: 2.1480\n",
            "Epoch: 15/20... Step: 330... Loss: 2.1619... Val Loss: 2.1299\n",
            "Epoch: 16/20... Step: 340... Loss: 2.1146... Val Loss: 2.1107\n",
            "Epoch: 16/20... Step: 350... Loss: 2.0984... Val Loss: 2.0921\n",
            "Epoch: 17/20... Step: 360... Loss: 2.0887... Val Loss: 2.0751\n",
            "Epoch: 17/20... Step: 370... Loss: 2.0606... Val Loss: 2.0606\n",
            "Epoch: 18/20... Step: 380... Loss: 2.0579... Val Loss: 2.0431\n",
            "Epoch: 18/20... Step: 390... Loss: 2.0581... Val Loss: 2.0308\n",
            "Epoch: 19/20... Step: 400... Loss: 2.0544... Val Loss: 2.0131\n",
            "Epoch: 19/20... Step: 410... Loss: 2.0005... Val Loss: 1.9985\n",
            "Epoch: 20/20... Step: 420... Loss: 1.9823... Val Loss: 1.9882\n",
            "Epoch: 20/20... Step: 430... Loss: 1.9855... Val Loss: 1.9749\n",
            "Epoch: 20/20... Step: 440... Loss: 1.9845... Val Loss: 1.9603\n"
          ],
          "name": "stdout"
        }
      ]
    },
    {
      "metadata": {
        "id": "L8frugPaiv3X",
        "colab_type": "code",
        "colab": {}
      },
      "cell_type": "code",
      "source": [
        "def predict(net, char, h=None, top_k=None):\n",
        "        ''' Given a character, predict the next character.\n",
        "            Returns the predicted character and the hidden state.\n",
        "        '''\n",
        "        \n",
        "        # tensor inputs\n",
        "        x = np.array([[net.char2int[char]]])\n",
        "        x = one_hot_encode(x, len(net.chars))\n",
        "        inputs = torch.from_numpy(x)\n",
        "       \n",
        "        \n",
        "        # detach hidden state from history\n",
        "        h = tuple([each.data for each in h])\n",
        "        # get the output of the model\n",
        "        out, h = net(inputs, h)\n",
        "\n",
        "        # get the character probabilities\n",
        "        p = F.softmax(out, dim=1).data\n",
        "        \n",
        "        # get top characters\n",
        "        if top_k is None:\n",
        "            top_ch = np.arange(len(net.chars))\n",
        "        else:\n",
        "            p, top_ch = p.topk(top_k)\n",
        "            top_ch = top_ch.numpy().squeeze()\n",
        "        \n",
        "        # select the likely next character with some element of randomness\n",
        "        p = p.numpy().squeeze()\n",
        "        char = np.random.choice(top_ch, p=p/p.sum())\n",
        "        \n",
        "        # return the encoded value of the predicted char and the hidden state\n",
        "        return net.int2char[char], h"
      ],
      "execution_count": 0,
      "outputs": []
    },
    {
      "metadata": {
        "id": "974aVABI6Vkg",
        "colab_type": "code",
        "colab": {}
      },
      "cell_type": "code",
      "source": [
        "def sample(net, size, prime='The', top_k=None):\n",
        "\n",
        "    net.cpu()\n",
        "    \n",
        "    net.eval() # eval mode\n",
        "    \n",
        "    # First off, run through the prime characters\n",
        "    chars = [ch for ch in prime]\n",
        "    h = net.init_hidden(1)\n",
        "    for ch in prime:\n",
        "        char, h = predict(net, ch, h, top_k=top_k)\n",
        "\n",
        "    chars.append(char)\n",
        "    \n",
        "    # Now pass in the previous character and get a new one\n",
        "    for ii in range(size):\n",
        "        char, h = predict(net, chars[-1], h, top_k=top_k)\n",
        "        chars.append(char)\n",
        "\n",
        "    return ''.join(chars)"
      ],
      "execution_count": 0,
      "outputs": []
    },
    {
      "metadata": {
        "id": "z5SLSmVn6Yy8",
        "colab_type": "code",
        "colab": {
          "base_uri": "https://localhost:8080/",
          "height": 224
        },
        "outputId": "ec18ec17-ac8d-44e2-f18a-a49ad8beabcd"
      },
      "cell_type": "code",
      "source": [
        "print(sample(net, 1000, prime='Anna', top_k=5))"
      ],
      "execution_count": 28,
      "outputs": [
        {
          "output_type": "stream",
          "text": [
            "Annat at is the mithing all the persant a sucking to malies the probeen a feor in a lofe to make and then and they teel tore\n",
            "with thimes a feor hor the peollion and thing about abit of a constron a fecals than that world in the wellitionaly, the\n",
            "row angicte as that\n",
            "in than they,\n",
            "I would soutter around wish of to sumfont of the wases and a fack to bithis fat to me worle in the wank to bule to bick our of to beeling thorged or the sarf able and all of the paliens of that yee some oun a that this who a fect to to that the somestally. If seless is ander are a farther one the are a becansions. Thin is\n",
            "way the mest on were an and wenter all the pontite to al weal the reand the fourt to so they wist were theye’s and stant and whith the reand of he distan and\n",
            "mesicess of something the simes in werred\n",
            "the ruct and stelf in with in to shat a same the rall some to that she wist out ally the thourens to ane were aly and the rust feantiles\n",
            "in the ragient is a chacting.\n",
            "Whones a the pussing world.\n",
            "Whine \n"
          ],
          "name": "stdout"
        }
      ]
    },
    {
      "metadata": {
        "id": "nr7DyPEk6bgd",
        "colab_type": "code",
        "colab": {}
      },
      "cell_type": "code",
      "source": [
        ""
      ],
      "execution_count": 0,
      "outputs": []
    }
  ]
}