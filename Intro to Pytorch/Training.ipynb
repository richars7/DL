{
  "nbformat": 4,
  "nbformat_minor": 0,
  "metadata": {
    "colab": {
      "name": "Training.ipynb",
      "version": "0.3.2",
      "provenance": []
    },
    "kernelspec": {
      "name": "python3",
      "display_name": "Python 3"
    }
  },
  "cells": [
    {
      "metadata": {
        "id": "4RQMIkfN-t6V",
        "colab_type": "code",
        "colab": {}
      },
      "cell_type": "code",
      "source": [
        "# http://pytorch.org/\n",
        "from os.path import exists\n",
        "from wheel.pep425tags import get_abbr_impl, get_impl_ver, get_abi_tag\n",
        "platform = '{}{}-{}'.format(get_abbr_impl(), get_impl_ver(), get_abi_tag())\n",
        "cuda_output = !ldconfig -p|grep cudart.so|sed -e 's/.*\\.\\([0-9]*\\)\\.\\([0-9]*\\)$/cu\\1\\2/'\n",
        "accelerator = cuda_output[0] if exists('/dev/nvidia0') else 'cpu'\n",
        "\n",
        "!pip install -q http://download.pytorch.org/whl/{accelerator}/torch-0.4.1-{platform}-linux_x86_64.whl torchvision\n",
        "import torch"
      ],
      "execution_count": 0,
      "outputs": []
    },
    {
      "metadata": {
        "id": "46sNFbtP-xy-",
        "colab_type": "code",
        "colab": {
          "base_uri": "https://localhost:8080/",
          "height": 119
        },
        "outputId": "d6426147-16bb-4368-b892-144b08c8fbd0"
      },
      "cell_type": "code",
      "source": [
        "import torch\n",
        "from torchvision import datasets, transforms\n",
        "\n",
        "# Define a transform to normalize the data\n",
        "transform = transforms.Compose([transforms.ToTensor(),\n",
        "                                transforms.Normalize((0.5, 0.5, 0.5), (0.5, 0.5, 0.5))])\n",
        "# Download and load the training data\n",
        "trainset = datasets.FashionMNIST('~/.pytorch/F_MNIST_data/', download=True, train=True, transform=transform)\n",
        "trainloader = torch.utils.data.DataLoader(trainset, batch_size=64, shuffle=True)\n",
        "\n",
        "# Download and load the test data\n",
        "testset = datasets.FashionMNIST('~/.pytorch/F_MNIST_data/', download=True, train=False, transform=transform)\n",
        "testloader = torch.utils.data.DataLoader(testset, batch_size=64, shuffle=True)"
      ],
      "execution_count": 3,
      "outputs": [
        {
          "output_type": "stream",
          "text": [
            "Downloading http://fashion-mnist.s3-website.eu-central-1.amazonaws.com/train-images-idx3-ubyte.gz\n",
            "Downloading http://fashion-mnist.s3-website.eu-central-1.amazonaws.com/train-labels-idx1-ubyte.gz\n",
            "Downloading http://fashion-mnist.s3-website.eu-central-1.amazonaws.com/t10k-images-idx3-ubyte.gz\n",
            "Downloading http://fashion-mnist.s3-website.eu-central-1.amazonaws.com/t10k-labels-idx1-ubyte.gz\n",
            "Processing...\n",
            "Done!\n"
          ],
          "name": "stdout"
        }
      ]
    },
    {
      "metadata": {
        "id": "IXFIP2wv-3ap",
        "colab_type": "code",
        "colab": {}
      },
      "cell_type": "code",
      "source": [
        "from torch import nn,optim\n",
        "import torch.nn.functional as F\n",
        "\n",
        "class Classifier(nn.Module):\n",
        "  def __init__(self):\n",
        "    super().__init__()\n",
        "    \n",
        "    self.fc1 = nn.Linear(784, 256)\n",
        "    self.fc2 = nn.Linear(256, 128)\n",
        "    self.fc3 = nn.Linear(128, 64)\n",
        "    self.fc4 = nn.Linear(64, 10)\n",
        "    \n",
        "  def forward(self,x):\n",
        "    \n",
        "    # make sure input tensor is flattened\n",
        "    x = x.view(x.shape[0], -1)\n",
        "    x = F.relu(self.fc1(x))\n",
        "    x = F.relu(self.fc2(x))\n",
        "    x = F.relu(self.fc3(x))\n",
        "    x = F.log_softmax(self.fc4(x), dim=1)\n",
        "        \n",
        "    return x   "
      ],
      "execution_count": 0,
      "outputs": []
    },
    {
      "metadata": {
        "id": "iir_9GB1AgqJ",
        "colab_type": "text"
      },
      "cell_type": "markdown",
      "source": [
        "The goal of validation is to measure the model's performance on data that isn't part of the training set. Performance here is up to the developer to define though. Typically this is just accuracy, the percentage of classes the network predicted correctly. Other options are precision and recall) and top-5 error rate. We'll focus on accuracy here. First I'll do a forward pass with one batch from the test set."
      ]
    },
    {
      "metadata": {
        "id": "urabpNlmAcTg",
        "colab_type": "code",
        "colab": {
          "base_uri": "https://localhost:8080/",
          "height": 34
        },
        "outputId": "e5c17e9e-f9b8-4b81-f519-88829a572ea2"
      },
      "cell_type": "code",
      "source": [
        "model = Classifier()\n",
        "\n",
        "images, labels = next(iter(testloader))\n",
        "# Get the class probabilities\n",
        "ps = torch.exp(model(images))\n",
        "# Make sure the shape is appropriate, we should get 10 class probabilities for 64 examples\n",
        "print(ps.shape)"
      ],
      "execution_count": 5,
      "outputs": [
        {
          "output_type": "stream",
          "text": [
            "torch.Size([64, 10])\n"
          ],
          "name": "stdout"
        }
      ]
    },
    {
      "metadata": {
        "id": "vuOY_rZmA0xv",
        "colab_type": "code",
        "colab": {
          "base_uri": "https://localhost:8080/",
          "height": 187
        },
        "outputId": "49fd3831-b613-404d-b6da-005718f66eed"
      },
      "cell_type": "code",
      "source": [
        "top_p, top_class = ps.topk(1, dim=1)\n",
        "# Look at the most likely classes for the first 10 examples\n",
        "print(top_class[:10,:])"
      ],
      "execution_count": 6,
      "outputs": [
        {
          "output_type": "stream",
          "text": [
            "tensor([[8],\n",
            "        [8],\n",
            "        [1],\n",
            "        [8],\n",
            "        [1],\n",
            "        [8],\n",
            "        [8],\n",
            "        [1],\n",
            "        [8],\n",
            "        [1]])\n"
          ],
          "name": "stdout"
        }
      ]
    },
    {
      "metadata": {
        "id": "RliA7ry6BMOf",
        "colab_type": "code",
        "colab": {}
      },
      "cell_type": "code",
      "source": [
        "equals = top_class == labels.view(*top_class.shape)"
      ],
      "execution_count": 0,
      "outputs": []
    },
    {
      "metadata": {
        "id": "BmhwieQiBOya",
        "colab_type": "code",
        "colab": {
          "base_uri": "https://localhost:8080/",
          "height": 34
        },
        "outputId": "62a3943c-da84-42c6-c0a0-8fc45c34a7ee"
      },
      "cell_type": "code",
      "source": [
        "accuracy = torch.mean(equals.type(torch.FloatTensor))\n",
        "print(f'Accuracy: {accuracy.item()*100}%')"
      ],
      "execution_count": 8,
      "outputs": [
        {
          "output_type": "stream",
          "text": [
            "Accuracy: 9.375%\n"
          ],
          "name": "stdout"
        }
      ]
    },
    {
      "metadata": {
        "id": "5SO0Yfp7BRqL",
        "colab_type": "code",
        "colab": {
          "base_uri": "https://localhost:8080/",
          "height": 527
        },
        "outputId": "6cc90ada-46f2-4dad-c2d2-e0b741848e54"
      },
      "cell_type": "code",
      "source": [
        "model = Classifier()\n",
        "criterion = nn.NLLLoss()\n",
        "optimizer = optim.Adam(model.parameters(), lr=0.003)\n",
        "\n",
        "epochs = 30\n",
        "steps = 0\n",
        "\n",
        "train_losses, test_losses = [], []\n",
        "for e in range(epochs):\n",
        "    running_loss = 0\n",
        "    for images, labels in trainloader:\n",
        "        \n",
        "        optimizer.zero_grad()\n",
        "        \n",
        "        log_ps = model(images)\n",
        "        loss = criterion(log_ps, labels)\n",
        "        loss.backward()\n",
        "        optimizer.step()\n",
        "        \n",
        "        running_loss += loss.item()\n",
        "        \n",
        "    else:\n",
        "        test_loss = 0\n",
        "        accuracy = 0\n",
        "        \n",
        "        # Turn off gradients for validation, saves memory and computations\n",
        "        with torch.no_grad():\n",
        "            for images, labels in testloader:\n",
        "                log_ps = model(images)\n",
        "                test_loss += criterion(log_ps, labels)\n",
        "                \n",
        "                ps = torch.exp(log_ps)\n",
        "                top_p, top_class = ps.topk(1, dim=1)\n",
        "                equals = top_class == labels.view(*top_class.shape)\n",
        "                accuracy += torch.mean(equals.type(torch.FloatTensor))\n",
        "                \n",
        "        train_losses.append(running_loss/len(trainloader))\n",
        "        test_losses.append(test_loss/len(testloader))\n",
        "\n",
        "        print(\"Epoch: {}/{}.. \".format(e+1, epochs),\n",
        "              \"Training Loss: {:.3f}.. \".format(running_loss/len(trainloader)),\n",
        "              \"Test Loss: {:.3f}.. \".format(test_loss/len(testloader)),\n",
        "              \"Test Accuracy: {:.3f}\".format(accuracy/len(testloader)))"
      ],
      "execution_count": 9,
      "outputs": [
        {
          "output_type": "stream",
          "text": [
            "Epoch: 1/30..  Training Loss: 0.512..  Test Loss: 0.494..  Test Accuracy: 0.813\n",
            "Epoch: 2/30..  Training Loss: 0.394..  Test Loss: 0.423..  Test Accuracy: 0.848\n",
            "Epoch: 3/30..  Training Loss: 0.362..  Test Loss: 0.404..  Test Accuracy: 0.853\n",
            "Epoch: 4/30..  Training Loss: 0.334..  Test Loss: 0.394..  Test Accuracy: 0.856\n",
            "Epoch: 5/30..  Training Loss: 0.316..  Test Loss: 0.403..  Test Accuracy: 0.859\n",
            "Epoch: 6/30..  Training Loss: 0.305..  Test Loss: 0.376..  Test Accuracy: 0.865\n",
            "Epoch: 7/30..  Training Loss: 0.292..  Test Loss: 0.367..  Test Accuracy: 0.871\n",
            "Epoch: 8/30..  Training Loss: 0.281..  Test Loss: 0.350..  Test Accuracy: 0.878\n",
            "Epoch: 9/30..  Training Loss: 0.276..  Test Loss: 0.417..  Test Accuracy: 0.859\n",
            "Epoch: 10/30..  Training Loss: 0.271..  Test Loss: 0.378..  Test Accuracy: 0.871\n",
            "Epoch: 11/30..  Training Loss: 0.261..  Test Loss: 0.371..  Test Accuracy: 0.877\n",
            "Epoch: 12/30..  Training Loss: 0.252..  Test Loss: 0.362..  Test Accuracy: 0.882\n",
            "Epoch: 13/30..  Training Loss: 0.246..  Test Loss: 0.369..  Test Accuracy: 0.876\n",
            "Epoch: 14/30..  Training Loss: 0.244..  Test Loss: 0.357..  Test Accuracy: 0.881\n",
            "Epoch: 15/30..  Training Loss: 0.240..  Test Loss: 0.361..  Test Accuracy: 0.882\n",
            "Epoch: 16/30..  Training Loss: 0.231..  Test Loss: 0.354..  Test Accuracy: 0.881\n",
            "Epoch: 17/30..  Training Loss: 0.232..  Test Loss: 0.378..  Test Accuracy: 0.882\n",
            "Epoch: 18/30..  Training Loss: 0.224..  Test Loss: 0.390..  Test Accuracy: 0.881\n",
            "Epoch: 19/30..  Training Loss: 0.218..  Test Loss: 0.387..  Test Accuracy: 0.882\n",
            "Epoch: 20/30..  Training Loss: 0.215..  Test Loss: 0.389..  Test Accuracy: 0.880\n",
            "Epoch: 21/30..  Training Loss: 0.213..  Test Loss: 0.415..  Test Accuracy: 0.879\n",
            "Epoch: 22/30..  Training Loss: 0.206..  Test Loss: 0.432..  Test Accuracy: 0.872\n",
            "Epoch: 23/30..  Training Loss: 0.201..  Test Loss: 0.394..  Test Accuracy: 0.883\n",
            "Epoch: 24/30..  Training Loss: 0.196..  Test Loss: 0.385..  Test Accuracy: 0.889\n",
            "Epoch: 25/30..  Training Loss: 0.199..  Test Loss: 0.426..  Test Accuracy: 0.878\n",
            "Epoch: 26/30..  Training Loss: 0.200..  Test Loss: 0.394..  Test Accuracy: 0.888\n",
            "Epoch: 27/30..  Training Loss: 0.192..  Test Loss: 0.420..  Test Accuracy: 0.883\n",
            "Epoch: 28/30..  Training Loss: 0.187..  Test Loss: 0.430..  Test Accuracy: 0.885\n",
            "Epoch: 29/30..  Training Loss: 0.184..  Test Loss: 0.474..  Test Accuracy: 0.879\n",
            "Epoch: 30/30..  Training Loss: 0.189..  Test Loss: 0.447..  Test Accuracy: 0.879\n"
          ],
          "name": "stdout"
        }
      ]
    },
    {
      "metadata": {
        "id": "LCiF3bDzBVOq",
        "colab_type": "code",
        "colab": {}
      },
      "cell_type": "code",
      "source": [
        "%matplotlib inline\n",
        "%config InlineBackend.figure_format = 'retina'\n",
        "\n",
        "import matplotlib.pyplot as plt"
      ],
      "execution_count": 0,
      "outputs": []
    },
    {
      "metadata": {
        "id": "RoQyBVLEDUmz",
        "colab_type": "code",
        "colab": {
          "base_uri": "https://localhost:8080/",
          "height": 282
        },
        "outputId": "f3986969-5dd5-4fcc-97e7-ae39bf0a2a26"
      },
      "cell_type": "code",
      "source": [
        "plt.plot(train_losses, label='Training loss')\n",
        "plt.plot(test_losses, label='Validation loss')\n",
        "plt.legend(frameon=False)"
      ],
      "execution_count": 11,
      "outputs": [
        {
          "output_type": "execute_result",
          "data": {
            "text/plain": [
              "<matplotlib.legend.Legend at 0x7ff90949b908>"
            ]
          },
          "metadata": {
            "tags": []
          },
          "execution_count": 11
        },
        {
          "output_type": "display_data",
          "data": {
            "image/png": "[encoded data removed]",
            "text/plain": [
              "<matplotlib.figure.Figure at 0x7ff909a9fda0>"
            ]
          },
          "metadata": {
            "tags": [],
            "image/png": {
              "width": 376,
              "height": 248
            }
          }
        }
      ]
    },
    {
      "metadata": {
        "id": "2Y4ead6jDW4i",
        "colab_type": "code",
        "colab": {}
      },
      "cell_type": "code",
      "source": [
        ""
      ],
      "execution_count": 0,
      "outputs": []
    }
  ]
}